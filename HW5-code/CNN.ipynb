{
 "cells": [
  {
   "cell_type": "markdown",
   "metadata": {},
   "source": [
    "# Convolutional neural networks\n",
    "\n",
    "In this notebook, we'll put together our convolutional layers to implement a 3-layer CNN.  Then, we'll ask you to implement a CNN that can achieve > 65% validation error on CIFAR-10.\n",
    "\n",
    "CS231n has built a solid API for building these modular frameworks and training them, and we will use their very well implemented framework as opposed to \"reinventing the wheel.\"  This includes using their Solver, various utility functions, their layer structure, and their implementation of fast CNN layers.  This also includes nndl.fc_net, nndl.layers, and nndl.layer_utils.  As in prior assignments, we thank Serena Yeung & Justin Johnson for permission to use code written for the CS 231n class (cs231n.stanford.edu).  \n",
    "\n",
    "\n",
    "If you have not completed the Spatial BatchNorm Notebook, please see the following description from that notebook:\n",
    "\n",
    "Please copy and paste your prior implemented code from HW #4 to start this assignment.  If you did not correctly implement the layers in HW #4, you may collaborate with a classmate to use their layer implementations from HW #4.  You may also visit TA or Prof OH to correct your implementation.  \n",
    "\n",
    "You'll want to copy and paste from HW #4:\n",
    "    - layers.py for your FC network layers, as well as batchnorm and dropout.\n",
    "    - layer_utils.py for your combined FC network layers.\n",
    "    - optim.py for your optimizers.\n",
    "\n",
    "Be sure to place these in the `nndl/` directory so they're imported correctly.  Note, as announced in class, we will not be releasing our solutions."
   ]
  },
  {
   "cell_type": "code",
   "execution_count": 1,
   "metadata": {},
   "outputs": [],
   "source": [
    "# As usual, a bit of setup\n",
    "\n",
    "import numpy as np\n",
    "import matplotlib.pyplot as plt\n",
    "from nndl.cnn import *\n",
    "from cs231n.data_utils import get_CIFAR10_data\n",
    "from cs231n.gradient_check import eval_numerical_gradient_array, eval_numerical_gradient\n",
    "from nndl.layers import *\n",
    "from nndl.conv_layers import *\n",
    "from cs231n.fast_layers import *\n",
    "from cs231n.solver import Solver\n",
    "\n",
    "%matplotlib inline\n",
    "plt.rcParams['figure.figsize'] = (10.0, 8.0) # set default size of plots\n",
    "plt.rcParams['image.interpolation'] = 'nearest'\n",
    "plt.rcParams['image.cmap'] = 'gray'\n",
    "\n",
    "# for auto-reloading external modules\n",
    "# see http://stackoverflow.com/questions/1907993/autoreload-of-modules-in-ipython\n",
    "%load_ext autoreload\n",
    "%autoreload 2\n",
    "\n",
    "def rel_error(x, y):\n",
    "  \"\"\" returns relative error \"\"\"\n",
    "  return np.max(np.abs(x - y) / (np.maximum(1e-8, np.abs(x) + np.abs(y))))"
   ]
  },
  {
   "cell_type": "code",
   "execution_count": 2,
   "metadata": {},
   "outputs": [
    {
     "name": "stdout",
     "output_type": "stream",
     "text": [
      "X_train: (49000, 3, 32, 32) \n",
      "y_train: (49000,) \n",
      "X_val: (1000, 3, 32, 32) \n",
      "y_val: (1000,) \n",
      "X_test: (1000, 3, 32, 32) \n",
      "y_test: (1000,) \n"
     ]
    }
   ],
   "source": [
    "# Load the (preprocessed) CIFAR10 data.\n",
    "\n",
    "data = get_CIFAR10_data()\n",
    "for k in data.keys():\n",
    "  print('{}: {} '.format(k, data[k].shape))"
   ]
  },
  {
   "cell_type": "markdown",
   "metadata": {},
   "source": [
    "## Three layer CNN\n",
    "\n",
    "In this notebook, you will implement a three layer CNN.  The `ThreeLayerConvNet` class is in `nndl/cnn.py`.  You'll need to modify that code for this section, including the initialization, as well as the calculation of the loss and gradients.  You should be able to use the building blocks you have either earlier coded or that we have provided.  Be sure to use the fast layers.\n",
    "\n",
    "The architecture of this CNN will be:\n",
    "\n",
    "conv - relu - 2x2 max pool - affine - relu - affine - softmax\n",
    "\n",
    "We won't use batchnorm yet.  You've also done enough of these to know how to debug; use the cells below.\n",
    "\n",
    "Note: As we are implementing several layers CNN networks. The gradient error can be expected for the `eval_numerical_gradient()` function. If your `W1 max relative error` and `W2 max relative error` are around or below 0.01, they should be acceptable. Other errors should be less than 1e-5. "
   ]
  },
  {
   "cell_type": "code",
   "execution_count": 3,
   "metadata": {},
   "outputs": [
    {
     "name": "stdout",
     "output_type": "stream",
     "text": [
      "W1 max relative error: 0.004202228776077522\n",
      "W2 max relative error: 0.0005681010238853292\n",
      "W3 max relative error: 8.285298338683957e-05\n",
      "b1 max relative error: 3.1830327285875003e-06\n",
      "b2 max relative error: 1.741977282855006e-07\n",
      "b3 max relative error: 1.5702837621596893e-09\n"
     ]
    }
   ],
   "source": [
    "num_inputs = 2\n",
    "input_dim = (3, 16, 16)\n",
    "reg = 0.0\n",
    "num_classes = 10\n",
    "X = np.random.randn(num_inputs, *input_dim)\n",
    "y = np.random.randint(num_classes, size=num_inputs)\n",
    "\n",
    "model = ThreeLayerConvNet(num_filters=3, filter_size=3,\n",
    "                          input_dim=input_dim, hidden_dim=7,\n",
    "                          dtype=np.float64)\n",
    "loss, grads = model.loss(X, y)\n",
    "for param_name in sorted(grads):\n",
    "    f = lambda _: model.loss(X, y)[0]\n",
    "    param_grad_num = eval_numerical_gradient(f, model.params[param_name], verbose=False, h=1e-6)\n",
    "    e = rel_error(param_grad_num, grads[param_name])\n",
    "    print('{} max relative error: {}'.format(param_name, rel_error(param_grad_num, grads[param_name])))"
   ]
  },
  {
   "cell_type": "markdown",
   "metadata": {},
   "source": [
    "### Overfit small dataset\n",
    "\n",
    "To check your CNN implementation, let's overfit a small dataset."
   ]
  },
  {
   "cell_type": "code",
   "execution_count": 4,
   "metadata": {},
   "outputs": [
    {
     "name": "stdout",
     "output_type": "stream",
     "text": [
      "(Iteration 1 / 20) loss: 2.351184\n",
      "(Epoch 0 / 10) train acc: 0.240000; val_acc: 0.104000\n",
      "(Iteration 2 / 20) loss: 2.915618\n",
      "(Epoch 1 / 10) train acc: 0.250000; val_acc: 0.151000\n",
      "(Iteration 3 / 20) loss: 3.642598\n",
      "(Iteration 4 / 20) loss: 2.868942\n",
      "(Epoch 2 / 10) train acc: 0.270000; val_acc: 0.137000\n",
      "(Iteration 5 / 20) loss: 2.425633\n",
      "(Iteration 6 / 20) loss: 2.378415\n",
      "(Epoch 3 / 10) train acc: 0.300000; val_acc: 0.097000\n",
      "(Iteration 7 / 20) loss: 1.986160\n",
      "(Iteration 8 / 20) loss: 1.933292\n",
      "(Epoch 4 / 10) train acc: 0.440000; val_acc: 0.171000\n",
      "(Iteration 9 / 20) loss: 1.712331\n",
      "(Iteration 10 / 20) loss: 1.441801\n",
      "(Epoch 5 / 10) train acc: 0.490000; val_acc: 0.162000\n",
      "(Iteration 11 / 20) loss: 1.553266\n",
      "(Iteration 12 / 20) loss: 1.665578\n",
      "(Epoch 6 / 10) train acc: 0.560000; val_acc: 0.146000\n",
      "(Iteration 13 / 20) loss: 1.658660\n",
      "(Iteration 14 / 20) loss: 1.013838\n",
      "(Epoch 7 / 10) train acc: 0.760000; val_acc: 0.186000\n",
      "(Iteration 15 / 20) loss: 1.096990\n",
      "(Iteration 16 / 20) loss: 0.826862\n",
      "(Epoch 8 / 10) train acc: 0.650000; val_acc: 0.173000\n",
      "(Iteration 17 / 20) loss: 0.979145\n",
      "(Iteration 18 / 20) loss: 0.972773\n",
      "(Epoch 9 / 10) train acc: 0.760000; val_acc: 0.191000\n",
      "(Iteration 19 / 20) loss: 1.012555\n",
      "(Iteration 20 / 20) loss: 0.745705\n",
      "(Epoch 10 / 10) train acc: 0.840000; val_acc: 0.196000\n"
     ]
    }
   ],
   "source": [
    "num_train = 100\n",
    "small_data = {\n",
    "  'X_train': data['X_train'][:num_train],\n",
    "  'y_train': data['y_train'][:num_train],\n",
    "  'X_val': data['X_val'],\n",
    "  'y_val': data['y_val'],\n",
    "}\n",
    "\n",
    "model = ThreeLayerConvNet(weight_scale=1e-2)\n",
    "\n",
    "solver = Solver(model, small_data,\n",
    "                num_epochs=10, batch_size=50,\n",
    "                update_rule='adam',\n",
    "                optim_config={\n",
    "                  'learning_rate': 1e-3,\n",
    "                },\n",
    "                verbose=True, print_every=1)\n",
    "solver.train()"
   ]
  },
  {
   "cell_type": "code",
   "execution_count": 5,
   "metadata": {},
   "outputs": [
    {
     "data": {
      "image/png": "[encoded data removed]",
      "text/plain": [
       "<matplotlib.figure.Figure at 0x1038e8860>"
      ]
     },
     "metadata": {},
     "output_type": "display_data"
    }
   ],
   "source": [
    "plt.subplot(2, 1, 1)\n",
    "plt.plot(solver.loss_history, 'o')\n",
    "plt.xlabel('iteration')\n",
    "plt.ylabel('loss')\n",
    "\n",
    "plt.subplot(2, 1, 2)\n",
    "plt.plot(solver.train_acc_history, '-o')\n",
    "plt.plot(solver.val_acc_history, '-o')\n",
    "plt.legend(['train', 'val'], loc='upper left')\n",
    "plt.xlabel('epoch')\n",
    "plt.ylabel('accuracy')\n",
    "plt.show()"
   ]
  },
  {
   "cell_type": "markdown",
   "metadata": {},
   "source": [
    "## Train the network\n",
    "\n",
    "Now we train the 3 layer CNN on CIFAR-10 and assess its accuracy."
   ]
  },
  {
   "cell_type": "code",
   "execution_count": 6,
   "metadata": {
    "scrolled": false
   },
   "outputs": [
    {
     "name": "stdout",
     "output_type": "stream",
     "text": [
      "(Iteration 1 / 980) loss: 2.304496\n",
      "(Epoch 0 / 1) train acc: 0.101000; val_acc: 0.079000\n",
      "(Iteration 21 / 980) loss: 2.080360\n",
      "(Iteration 41 / 980) loss: 1.945701\n",
      "(Iteration 61 / 980) loss: 1.966470\n",
      "(Iteration 81 / 980) loss: 1.829418\n",
      "(Iteration 101 / 980) loss: 1.855914\n",
      "(Iteration 121 / 980) loss: 1.916597\n",
      "(Iteration 141 / 980) loss: 1.693057\n",
      "(Iteration 161 / 980) loss: 1.948681\n",
      "(Iteration 181 / 980) loss: 1.553618\n",
      "(Iteration 201 / 980) loss: 1.941211\n",
      "(Iteration 221 / 980) loss: 1.713548\n",
      "(Iteration 241 / 980) loss: 1.881721\n",
      "(Iteration 261 / 980) loss: 1.899386\n",
      "(Iteration 281 / 980) loss: 1.687989\n",
      "(Iteration 301 / 980) loss: 1.969805\n",
      "(Iteration 321 / 980) loss: 1.492006\n",
      "(Iteration 341 / 980) loss: 1.577444\n",
      "(Iteration 361 / 980) loss: 1.558243\n",
      "(Iteration 381 / 980) loss: 1.870323\n",
      "(Iteration 401 / 980) loss: 1.698329\n",
      "(Iteration 421 / 980) loss: 1.749057\n",
      "(Iteration 441 / 980) loss: 1.762944\n",
      "(Iteration 461 / 980) loss: 1.730742\n",
      "(Iteration 481 / 980) loss: 1.419498\n",
      "(Iteration 501 / 980) loss: 1.509752\n",
      "(Iteration 521 / 980) loss: 1.510108\n",
      "(Iteration 541 / 980) loss: 1.720160\n",
      "(Iteration 561 / 980) loss: 1.466920\n",
      "(Iteration 581 / 980) loss: 1.653285\n",
      "(Iteration 601 / 980) loss: 1.868597\n",
      "(Iteration 621 / 980) loss: 1.665640\n",
      "(Iteration 641 / 980) loss: 1.750625\n",
      "(Iteration 661 / 980) loss: 1.323053\n",
      "(Iteration 681 / 980) loss: 1.684263\n",
      "(Iteration 701 / 980) loss: 1.475615\n",
      "(Iteration 721 / 980) loss: 1.818108\n",
      "(Iteration 741 / 980) loss: 1.778711\n",
      "(Iteration 761 / 980) loss: 1.672390\n",
      "(Iteration 781 / 980) loss: 1.623518\n",
      "(Iteration 801 / 980) loss: 1.550516\n",
      "(Iteration 821 / 980) loss: 1.627588\n",
      "(Iteration 841 / 980) loss: 1.719402\n",
      "(Iteration 861 / 980) loss: 1.610286\n",
      "(Iteration 881 / 980) loss: 1.606602\n",
      "(Iteration 901 / 980) loss: 1.903392\n",
      "(Iteration 921 / 980) loss: 1.514107\n",
      "(Iteration 941 / 980) loss: 1.652871\n",
      "(Iteration 961 / 980) loss: 1.407502\n",
      "(Epoch 1 / 1) train acc: 0.454000; val_acc: 0.456000\n"
     ]
    }
   ],
   "source": [
    "model = ThreeLayerConvNet(weight_scale=0.001, hidden_dim=500, reg=0.001)\n",
    "\n",
    "solver = Solver(model, data,\n",
    "                num_epochs=1, batch_size=50,\n",
    "                update_rule='adam',\n",
    "                optim_config={\n",
    "                  'learning_rate': 1e-3,\n",
    "                },\n",
    "                verbose=True, print_every=20)\n",
    "solver.train()"
   ]
  },
  {
   "cell_type": "markdown",
   "metadata": {},
   "source": [
    "# Get > 65% validation accuracy on CIFAR-10.\n",
    "\n",
    "In the last part of the assignment, we'll now ask you to train a CNN to get better than 65% validation accuracy on CIFAR-10.\n",
    "\n",
    "### Things you should try:\n",
    "- Filter size: Above we used 7x7; but VGGNet and onwards showed stacks of 3x3 filters are good.  \n",
    "- Number of filters: Above we used 32 filters. Do more or fewer do better?\n",
    "- Batch normalization: Try adding spatial batch normalization after convolution layers and vanilla batch normalization after affine layers. Do your networks train faster?\n",
    "- Network architecture: Can a deeper CNN do better?  Consider these architectures:\n",
    "    - [conv-relu-pool]xN - conv - relu - [affine]xM - [softmax or SVM]\n",
    "    - [conv-relu-pool]XN - [affine]XM - [softmax or SVM]\n",
    "    - [conv-relu-conv-relu-pool]xN - [affine]xM - [softmax or SVM]\n",
    "\n",
    "### Tips for training\n",
    "For each network architecture that you try, you should tune the learning rate and regularization strength. When doing this there are a couple of important things to keep in mind:\n",
    "\n",
    "- If the parameters are working well, you should see improvement within a few hundred iterations\n",
    "- Remember the coarse-to-fine approach for hyperparameter tuning: start by testing a large range of hyperparameters for just a few training iterations to find the combinations of parameters that are working at all.\n",
    "- Once you have found some sets of parameters that seem to work, search more finely around these parameters. You may need to train for more epochs."
   ]
  },
  {
   "cell_type": "code",
   "execution_count": 8,
   "metadata": {
    "scrolled": false
   },
   "outputs": [
    {
     "name": "stdout",
     "output_type": "stream",
     "text": [
      "(Iteration 1 / 2205) loss: 2.303796\n",
      "(Epoch 0 / 9) train acc: 0.113000; val_acc: 0.126000\n",
      "(Iteration 51 / 2205) loss: 1.793503\n",
      "(Iteration 101 / 2205) loss: 1.526483\n",
      "(Iteration 151 / 2205) loss: 1.453566\n",
      "(Iteration 201 / 2205) loss: 1.509319\n",
      "(Epoch 1 / 9) train acc: 0.570000; val_acc: 0.543000\n",
      "(Iteration 251 / 2205) loss: 1.388170\n",
      "(Iteration 301 / 2205) loss: 1.217095\n",
      "(Iteration 351 / 2205) loss: 1.339522\n",
      "(Iteration 401 / 2205) loss: 1.359220\n",
      "(Iteration 451 / 2205) loss: 1.221121\n",
      "(Epoch 2 / 9) train acc: 0.588000; val_acc: 0.566000\n",
      "(Iteration 501 / 2205) loss: 1.327198\n",
      "(Iteration 551 / 2205) loss: 1.299626\n",
      "(Iteration 601 / 2205) loss: 1.213474\n",
      "(Iteration 651 / 2205) loss: 1.313300\n",
      "(Iteration 701 / 2205) loss: 1.128636\n",
      "(Epoch 3 / 9) train acc: 0.675000; val_acc: 0.580000\n",
      "(Iteration 751 / 2205) loss: 1.301169\n",
      "(Iteration 801 / 2205) loss: 1.278455\n",
      "(Iteration 851 / 2205) loss: 1.168895\n",
      "(Iteration 901 / 2205) loss: 1.167485\n",
      "(Iteration 951 / 2205) loss: 1.183448\n",
      "(Epoch 4 / 9) train acc: 0.700000; val_acc: 0.642000\n",
      "(Iteration 1001 / 2205) loss: 1.209517\n",
      "(Iteration 1051 / 2205) loss: 1.160582\n",
      "(Iteration 1101 / 2205) loss: 1.285012\n",
      "(Iteration 1151 / 2205) loss: 1.163477\n",
      "(Iteration 1201 / 2205) loss: 1.152306\n",
      "(Epoch 5 / 9) train acc: 0.695000; val_acc: 0.627000\n",
      "(Iteration 1251 / 2205) loss: 1.284069\n",
      "(Iteration 1301 / 2205) loss: 1.119476\n",
      "(Iteration 1351 / 2205) loss: 1.199450\n",
      "(Iteration 1401 / 2205) loss: 1.187743\n",
      "(Iteration 1451 / 2205) loss: 1.268322\n",
      "(Epoch 6 / 9) train acc: 0.744000; val_acc: 0.659000\n",
      "(Iteration 1501 / 2205) loss: 1.079871\n",
      "(Iteration 1551 / 2205) loss: 1.193294\n",
      "(Iteration 1601 / 2205) loss: 1.198782\n",
      "(Iteration 1651 / 2205) loss: 1.369937\n",
      "(Iteration 1701 / 2205) loss: 1.234367\n",
      "(Epoch 7 / 9) train acc: 0.752000; val_acc: 0.651000\n",
      "(Iteration 1751 / 2205) loss: 1.319510\n",
      "(Iteration 1801 / 2205) loss: 0.988553\n",
      "(Iteration 1851 / 2205) loss: 1.171757\n",
      "(Iteration 1901 / 2205) loss: 1.242009\n",
      "(Iteration 1951 / 2205) loss: 1.247331\n",
      "(Epoch 8 / 9) train acc: 0.790000; val_acc: 0.650000\n",
      "(Iteration 2001 / 2205) loss: 1.122421\n",
      "(Iteration 2051 / 2205) loss: 1.223150\n",
      "(Iteration 2101 / 2205) loss: 1.082218\n",
      "(Iteration 2151 / 2205) loss: 1.357341\n",
      "(Iteration 2201 / 2205) loss: 1.162088\n",
      "(Epoch 9 / 9) train acc: 0.817000; val_acc: 0.673000\n"
     ]
    }
   ],
   "source": [
    "# ================================================================ #\n",
    "# YOUR CODE HERE:\n",
    "#   Implement a CNN to achieve greater than 65% validation accuracy\n",
    "#   on CIFAR-10.\n",
    "# ================================================================ #\n",
    "\n",
    "np.random.seed(1)\n",
    "\n",
    "model = ThreeLayerConvNet(weight_scale=0.001, num_filters=32, filter_size=3, hidden_dim=300, reg=0.001)\n",
    "\n",
    "solver = Solver(model, data,\n",
    "                num_epochs=9, batch_size=200,\n",
    "                update_rule='adam',\n",
    "                optim_config={\n",
    "                  'learning_rate': 1e-3,\n",
    "                },\n",
    "                verbose=True, print_every=50)\n",
    "solver.train()\n",
    "\n",
    "# ================================================================ #\n",
    "# END YOUR CODE HERE\n",
    "# ================================================================ #\n"
   ]
  }
 ],
 "metadata": {
  "kernelspec": {
   "display_name": "Python 3",
   "language": "python",
   "name": "python3"
  },
  "language_info": {
   "codemirror_mode": {
    "name": "ipython",
    "version": 3
   },
   "file_extension": ".py",
   "mimetype": "text/x-python",
   "name": "python",
   "nbconvert_exporter": "python",
   "pygments_lexer": "ipython3",
   "version": "3.6.4"
  },
  "varInspector": {
   "cols": {
    "lenName": 16,
    "lenType": 16,
    "lenVar": 40
   },
   "kernels_config": {
    "python": {
     "delete_cmd_postfix": "",
     "delete_cmd_prefix": "del ",
     "library": "var_list.py",
     "varRefreshCmd": "print(var_dic_list())"
    },
    "r": {
     "delete_cmd_postfix": ") ",
     "delete_cmd_prefix": "rm(",
     "library": "var_list.r",
     "varRefreshCmd": "cat(var_dic_list()) "
    }
   },
   "types_to_exclude": [
    "module",
    "function",
    "builtin_function_or_method",
    "instance",
    "_Feature"
   ],
   "window_display": true
  }
 },
 "nbformat": 4,
 "nbformat_minor": 2
}
