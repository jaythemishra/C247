{
 "cells": [
  {
   "cell_type": "markdown",
   "metadata": {},
   "source": [
    "# Dropout\n",
    "\n",
    "In this notebook, you will implement dropout.  Then we will ask you to train a network with batchnorm and dropout, and acheive over 55% accuracy on CIFAR-10.\n",
    "\n",
    "CS231n has built a solid API for building these modular frameworks and training them, and we will use their very well implemented framework as opposed to \"reinventing the wheel.\"  This includes using their Solver, various utility functions, and their layer structure.  This also includes nndl.fc_net, nndl.layers, and nndl.layer_utils.  As in prior assignments, we thank Serena Yeung & Justin Johnson for permission to use code written for the CS 231n class (cs231n.stanford.edu).  "
   ]
  },
  {
   "cell_type": "code",
   "execution_count": 1,
   "metadata": {},
   "outputs": [],
   "source": [
    "## Import and setups\n",
    "\n",
    "import time\n",
    "import numpy as np\n",
    "import matplotlib.pyplot as plt\n",
    "from nndl.fc_net import *\n",
    "from nndl.layers import *\n",
    "from cs231n.data_utils import get_CIFAR10_data\n",
    "from cs231n.gradient_check import eval_numerical_gradient, eval_numerical_gradient_array\n",
    "from cs231n.solver import Solver\n",
    "\n",
    "%matplotlib inline\n",
    "plt.rcParams['figure.figsize'] = (10.0, 8.0) # set default size of plots\n",
    "plt.rcParams['image.interpolation'] = 'nearest'\n",
    "plt.rcParams['image.cmap'] = 'gray'\n",
    "\n",
    "# for auto-reloading external modules\n",
    "# see http://stackoverflow.com/questions/1907993/autoreload-of-modules-in-ipython\n",
    "%load_ext autoreload\n",
    "%autoreload 2\n",
    "\n",
    "def rel_error(x, y):\n",
    "    \"\"\" returns relative error \"\"\"\n",
    "    return np.max(np.abs(x - y) / (np.maximum(1e-8, np.abs(x) + np.abs(y))))"
   ]
  },
  {
   "cell_type": "code",
   "execution_count": 2,
   "metadata": {},
   "outputs": [
    {
     "name": "stdout",
     "output_type": "stream",
     "text": [
      "X_train: (49000, 3, 32, 32) \n",
      "y_train: (49000,) \n",
      "X_val: (1000, 3, 32, 32) \n",
      "y_val: (1000,) \n",
      "X_test: (1000, 3, 32, 32) \n",
      "y_test: (1000,) \n"
     ]
    }
   ],
   "source": [
    "# Load the (preprocessed) CIFAR10 data.\n",
    "\n",
    "data = get_CIFAR10_data()\n",
    "for k in data.keys():\n",
    "    print('{}: {} '.format(k, data[k].shape))"
   ]
  },
  {
   "cell_type": "markdown",
   "metadata": {},
   "source": [
    "## Dropout forward pass\n",
    "\n",
    "Implement the training and test time dropout forward pass, `dropout_forward`, in `nndl/layers.py`. After that, test your implementation by running the following cell."
   ]
  },
  {
   "cell_type": "code",
   "execution_count": 3,
   "metadata": {},
   "outputs": [
    {
     "name": "stdout",
     "output_type": "stream",
     "text": [
      "Running tests with p =  0.3\n",
      "Mean of input:  9.995647342959924\n",
      "Mean of train-time output:  23.327319877359617\n",
      "Mean of test-time output:  9.995647342959924\n",
      "Fraction of train-time output set to zero:  0.3\n",
      "Fraction of test-time output set to zero:  0.0\n",
      "Running tests with p =  0.6\n",
      "Mean of input:  9.995647342959924\n",
      "Mean of train-time output:  6.6647200683941525\n",
      "Mean of test-time output:  9.995647342959924\n",
      "Fraction of train-time output set to zero:  0.6\n",
      "Fraction of test-time output set to zero:  0.0\n",
      "Running tests with p =  0.75\n",
      "Mean of input:  9.995647342959924\n",
      "Mean of train-time output:  3.332577544277715\n",
      "Mean of test-time output:  9.995647342959924\n",
      "Fraction of train-time output set to zero:  0.75\n",
      "Fraction of test-time output set to zero:  0.0\n"
     ]
    }
   ],
   "source": [
    "x = np.random.randn(500, 500) + 10\n",
    "\n",
    "for p in [0.3, 0.6, 0.75]:\n",
    "    out, _ = dropout_forward(x, {'mode': 'train', 'p': p})\n",
    "    out_test, _ = dropout_forward(x, {'mode': 'test', 'p': p})\n",
    "\n",
    "    print('Running tests with p = ', p)\n",
    "    print('Mean of input: ', x.mean())\n",
    "    print('Mean of train-time output: ', out.mean())\n",
    "    print('Mean of test-time output: ', out_test.mean())\n",
    "    print('Fraction of train-time output set to zero: ', (out == 0).mean())\n",
    "    print('Fraction of test-time output set to zero: ', (out_test == 0).mean())"
   ]
  },
  {
   "cell_type": "markdown",
   "metadata": {},
   "source": [
    "## Dropout backward pass\n",
    "\n",
    "Implement the backward pass, `dropout_backward`, in `nndl/layers.py`.  After that, test your gradients by running the following cell:"
   ]
  },
  {
   "cell_type": "code",
   "execution_count": 4,
   "metadata": {},
   "outputs": [
    {
     "name": "stdout",
     "output_type": "stream",
     "text": [
      "dx relative error:  5.445607665328973e-11\n"
     ]
    }
   ],
   "source": [
    "x = np.random.randn(10, 10) + 10\n",
    "dout = np.random.randn(*x.shape)\n",
    "\n",
    "dropout_param = {'mode': 'train', 'p': 0.8, 'seed': 123}\n",
    "out, cache = dropout_forward(x, dropout_param)\n",
    "dx = dropout_backward(dout, cache)\n",
    "dx_num = eval_numerical_gradient_array(lambda xx: dropout_forward(xx, dropout_param)[0], x, dout)\n",
    "\n",
    "print('dx relative error: ', rel_error(dx, dx_num))"
   ]
  },
  {
   "cell_type": "markdown",
   "metadata": {},
   "source": [
    "## Implement a fully connected neural network with dropout layers\n",
    "\n",
    "Modify the `FullyConnectedNet()` class in `nndl/fc_net.py` to incorporate dropout.  A dropout layer should be incorporated after every ReLU layer.  Concretely, there shouldn't be a dropout at the output layer since there is no ReLU at the output layer. You will need to modify the class in the following areas:\n",
    "\n",
    "(1) In the forward pass, you will need to incorporate a dropout layer after every relu layer.\n",
    "\n",
    "(2) In the backward pass, you will need to incorporate a dropout backward pass layer.\n",
    "\n",
    "Check your implementation by running the following code.  Our W1 gradient relative error is on the order of 1e-6 (the largest of all the relative errors)."
   ]
  },
  {
   "cell_type": "code",
   "execution_count": 5,
   "metadata": {},
   "outputs": [
    {
     "name": "stdout",
     "output_type": "stream",
     "text": [
      "Running check with dropout =  0.5\n",
      "Initial loss:  2.296030947548378\n",
      "W1 relative error: 5.0469067079821134e-08\n",
      "W2 relative error: 1.0690111859581997e-07\n",
      "W3 relative error: 3.7460817496024037e-07\n",
      "b1 relative error: 1.073831927570148e-08\n",
      "b2 relative error: 3.631537384441564e-09\n",
      "b3 relative error: 1.4512551071462429e-10\n",
      "\n",
      "\n",
      "Running check with dropout =  0.75\n",
      "Initial loss:  2.303134584290202\n",
      "W1 relative error: 1.1380400891365783e-07\n",
      "W2 relative error: 1.182731618796892e-08\n",
      "W3 relative error: 3.464161369188303e-08\n",
      "b1 relative error: 6.570528975702697e-09\n",
      "b2 relative error: 8.835749958319586e-10\n",
      "b3 relative error: 1.1569359041384078e-10\n",
      "\n",
      "\n",
      "Running check with dropout =  1.0\n",
      "Initial loss:  2.3025850929940455\n",
      "W1 relative error: 0.0\n",
      "W2 relative error: 0.0\n",
      "W3 relative error: 0.0\n",
      "b1 relative error: 0.0\n",
      "b2 relative error: 0.0\n",
      "b3 relative error: 6.988888633996435e-11\n",
      "\n",
      "\n"
     ]
    }
   ],
   "source": [
    "N, D, H1, H2, C = 2, 15, 20, 30, 10\n",
    "X = np.random.randn(N, D)\n",
    "y = np.random.randint(C, size=(N,))\n",
    "\n",
    "for dropout in [0.5, 0.75, 1.0]:\n",
    "    print('Running check with dropout = ', dropout)\n",
    "    model = FullyConnectedNet([H1, H2], input_dim=D, num_classes=C,\n",
    "                              weight_scale=5e-2, dtype=np.float64,\n",
    "                              dropout=dropout, seed=123)\n",
    "\n",
    "    loss, grads = model.loss(X, y)\n",
    "    print('Initial loss: ', loss)\n",
    "\n",
    "    for name in sorted(grads):\n",
    "        f = lambda _: model.loss(X, y)[0]\n",
    "        grad_num = eval_numerical_gradient(f, model.params[name], verbose=False, h=1e-5)\n",
    "        print('{} relative error: {}'.format(name, rel_error(grad_num, grads[name])))\n",
    "    print('\\n')"
   ]
  },
  {
   "cell_type": "markdown",
   "metadata": {},
   "source": [
    "## Dropout as a regularizer\n",
    "\n",
    "In class, we claimed that dropout acts as a regularizer by effectively bagging.  To check this, we will train two small networks, one with dropout and one without dropout.  "
   ]
  },
  {
   "cell_type": "code",
   "execution_count": 6,
   "metadata": {},
   "outputs": [
    {
     "name": "stdout",
     "output_type": "stream",
     "text": [
      "(Iteration 1 / 125) loss: 2.301384\n",
      "(Epoch 0 / 25) train acc: 0.126000; val_acc: 0.118000\n",
      "(Epoch 1 / 25) train acc: 0.182000; val_acc: 0.154000\n",
      "(Epoch 2 / 25) train acc: 0.182000; val_acc: 0.146000\n",
      "(Epoch 3 / 25) train acc: 0.206000; val_acc: 0.163000\n",
      "(Epoch 4 / 25) train acc: 0.198000; val_acc: 0.160000\n",
      "(Epoch 5 / 25) train acc: 0.194000; val_acc: 0.160000\n",
      "(Epoch 6 / 25) train acc: 0.238000; val_acc: 0.210000\n",
      "(Epoch 7 / 25) train acc: 0.246000; val_acc: 0.239000\n",
      "(Epoch 8 / 25) train acc: 0.282000; val_acc: 0.257000\n",
      "(Epoch 9 / 25) train acc: 0.298000; val_acc: 0.261000\n",
      "(Epoch 10 / 25) train acc: 0.300000; val_acc: 0.234000\n",
      "(Epoch 11 / 25) train acc: 0.298000; val_acc: 0.235000\n",
      "(Epoch 12 / 25) train acc: 0.308000; val_acc: 0.269000\n",
      "(Epoch 13 / 25) train acc: 0.348000; val_acc: 0.277000\n",
      "(Epoch 14 / 25) train acc: 0.358000; val_acc: 0.276000\n",
      "(Epoch 15 / 25) train acc: 0.370000; val_acc: 0.280000\n",
      "(Epoch 16 / 25) train acc: 0.382000; val_acc: 0.277000\n",
      "(Epoch 17 / 25) train acc: 0.400000; val_acc: 0.278000\n",
      "(Epoch 18 / 25) train acc: 0.382000; val_acc: 0.280000\n",
      "(Epoch 19 / 25) train acc: 0.362000; val_acc: 0.255000\n",
      "(Epoch 20 / 25) train acc: 0.388000; val_acc: 0.264000\n",
      "(Iteration 101 / 125) loss: 1.908092\n",
      "(Epoch 21 / 25) train acc: 0.398000; val_acc: 0.285000\n",
      "(Epoch 22 / 25) train acc: 0.432000; val_acc: 0.286000\n",
      "(Epoch 23 / 25) train acc: 0.458000; val_acc: 0.290000\n",
      "(Epoch 24 / 25) train acc: 0.436000; val_acc: 0.257000\n",
      "(Epoch 25 / 25) train acc: 0.448000; val_acc: 0.266000\n",
      "(Iteration 1 / 125) loss: 2.302585\n",
      "(Epoch 0 / 25) train acc: 0.086000; val_acc: 0.099000\n",
      "(Epoch 1 / 25) train acc: 0.082000; val_acc: 0.108000\n",
      "(Epoch 2 / 25) train acc: 0.082000; val_acc: 0.104000\n",
      "(Epoch 3 / 25) train acc: 0.082000; val_acc: 0.106000\n",
      "(Epoch 4 / 25) train acc: 0.070000; val_acc: 0.101000\n",
      "(Epoch 5 / 25) train acc: 0.074000; val_acc: 0.095000\n",
      "(Epoch 6 / 25) train acc: 0.086000; val_acc: 0.099000\n",
      "(Epoch 7 / 25) train acc: 0.078000; val_acc: 0.104000\n",
      "(Epoch 8 / 25) train acc: 0.082000; val_acc: 0.097000\n",
      "(Epoch 9 / 25) train acc: 0.072000; val_acc: 0.091000\n",
      "(Epoch 10 / 25) train acc: 0.086000; val_acc: 0.090000\n",
      "(Epoch 11 / 25) train acc: 0.090000; val_acc: 0.086000\n",
      "(Epoch 12 / 25) train acc: 0.080000; val_acc: 0.093000\n",
      "(Epoch 13 / 25) train acc: 0.088000; val_acc: 0.095000\n",
      "(Epoch 14 / 25) train acc: 0.080000; val_acc: 0.100000\n",
      "(Epoch 15 / 25) train acc: 0.084000; val_acc: 0.105000\n",
      "(Epoch 16 / 25) train acc: 0.086000; val_acc: 0.113000\n",
      "(Epoch 17 / 25) train acc: 0.096000; val_acc: 0.115000\n",
      "(Epoch 18 / 25) train acc: 0.104000; val_acc: 0.117000\n",
      "(Epoch 19 / 25) train acc: 0.106000; val_acc: 0.120000\n",
      "(Epoch 20 / 25) train acc: 0.112000; val_acc: 0.121000\n",
      "(Iteration 101 / 125) loss: 2.297497\n",
      "(Epoch 21 / 25) train acc: 0.110000; val_acc: 0.120000\n",
      "(Epoch 22 / 25) train acc: 0.110000; val_acc: 0.119000\n",
      "(Epoch 23 / 25) train acc: 0.110000; val_acc: 0.116000\n",
      "(Epoch 24 / 25) train acc: 0.108000; val_acc: 0.115000\n",
      "(Epoch 25 / 25) train acc: 0.112000; val_acc: 0.115000\n"
     ]
    }
   ],
   "source": [
    "# Train two identical nets, one with dropout and one without\n",
    "\n",
    "num_train = 500\n",
    "small_data = {\n",
    "    'X_train': data['X_train'][:num_train],\n",
    "    'y_train': data['y_train'][:num_train],\n",
    "    'X_val': data['X_val'],\n",
    "    'y_val': data['y_val'],\n",
    "}\n",
    "\n",
    "solvers = {}\n",
    "dropout_choices = [0.6, 1.0]\n",
    "for dropout in dropout_choices:\n",
    "    model = FullyConnectedNet([100, 100, 100], dropout=dropout)\n",
    "\n",
    "    solver = Solver(model, small_data,\n",
    "                    num_epochs=25, batch_size=100,\n",
    "                    update_rule='adam',\n",
    "                    optim_config={\n",
    "                      'learning_rate': 5e-4,\n",
    "                    },\n",
    "                    verbose=True, print_every=100)\n",
    "    solver.train()\n",
    "    solvers[dropout] = solver"
   ]
  },
  {
   "cell_type": "code",
   "execution_count": 7,
   "metadata": {},
   "outputs": [
    {
     "data": {
      "image/png": "[encoded data removed]",
      "text/plain": [
       "<Figure size 1080x1080 with 2 Axes>"
      ]
     },
     "metadata": {},
     "output_type": "display_data"
    }
   ],
   "source": [
    "# Plot train and validation accuracies of the two models\n",
    "\n",
    "train_accs = []\n",
    "val_accs = []\n",
    "for dropout in dropout_choices:\n",
    "    solver = solvers[dropout]\n",
    "    train_accs.append(solver.train_acc_history[-1])\n",
    "    val_accs.append(solver.val_acc_history[-1])\n",
    "\n",
    "plt.subplot(3, 1, 1)\n",
    "for dropout in dropout_choices:\n",
    "    plt.plot(solvers[dropout].train_acc_history, 'o', label='%.2f dropout' % dropout)\n",
    "plt.title('Train accuracy')\n",
    "plt.xlabel('Epoch')\n",
    "plt.ylabel('Accuracy')\n",
    "plt.legend(ncol=2, loc='lower right')\n",
    "  \n",
    "plt.subplot(3, 1, 2)\n",
    "for dropout in dropout_choices:\n",
    "    plt.plot(solvers[dropout].val_acc_history, 'o', label='%.2f dropout' % dropout)\n",
    "plt.title('Val accuracy')\n",
    "plt.xlabel('Epoch')\n",
    "plt.ylabel('Accuracy')\n",
    "plt.legend(ncol=2, loc='lower right')\n",
    "\n",
    "plt.gcf().set_size_inches(15, 15)\n",
    "plt.show()"
   ]
  },
  {
   "cell_type": "markdown",
   "metadata": {},
   "source": [
    "## Question\n",
    "\n",
    "Based off the results of this experiment, is dropout performing regularization?  Explain your answer."
   ]
  },
  {
   "cell_type": "markdown",
   "metadata": {},
   "source": [
    "## Answer:\n",
    "\n",
    "Based on the results of this experiment, dropout is preventing the model from overfitting to the training set because the training accuracy for the dropout model never gets close to one. Dropout also allows the model to generalize to an unknown validation set just as well as the non-dropout model."
   ]
  },
  {
   "cell_type": "markdown",
   "metadata": {},
   "source": [
    "##### Final part of the assignment\n",
    "\n",
    "Get over 55% validation accuracy on CIFAR-10 by using the layers you have implemented.  You will be graded according to the following equation:\n",
    "\n",
    "min(floor((X - 32%)) / 23%, 1) \n",
    "where if you get 55% or higher validation accuracy, you get full points."
   ]
  },
  {
   "cell_type": "code",
   "execution_count": 8,
   "metadata": {
    "scrolled": false
   },
   "outputs": [
    {
     "name": "stdout",
     "output_type": "stream",
     "text": [
      "(Iteration 1 / 1715) loss: 2.318876\n",
      "(Epoch 0 / 7) train acc: 0.149000; val_acc: 0.143000\n",
      "(Iteration 201 / 1715) loss: 1.547257\n",
      "(Epoch 1 / 7) train acc: 0.459000; val_acc: 0.470000\n",
      "(Iteration 401 / 1715) loss: 1.361872\n",
      "(Epoch 2 / 7) train acc: 0.532000; val_acc: 0.497000\n",
      "(Iteration 601 / 1715) loss: 1.286129\n",
      "(Epoch 3 / 7) train acc: 0.606000; val_acc: 0.550000\n",
      "(Iteration 801 / 1715) loss: 1.112842\n",
      "(Epoch 4 / 7) train acc: 0.631000; val_acc: 0.533000\n",
      "(Iteration 1001 / 1715) loss: 1.059047\n",
      "(Iteration 1201 / 1715) loss: 1.050819\n",
      "(Epoch 5 / 7) train acc: 0.662000; val_acc: 0.552000\n",
      "(Iteration 1401 / 1715) loss: 0.966081\n",
      "(Epoch 6 / 7) train acc: 0.688000; val_acc: 0.561000\n",
      "(Iteration 1601 / 1715) loss: 0.688643\n",
      "(Epoch 7 / 7) train acc: 0.720000; val_acc: 0.571000\n"
     ]
    }
   ],
   "source": [
    "# ================================================================ #\n",
    "# YOUR CODE HERE:\n",
    "#   Implement a FC-net that achieves at least 55% validation accuracy\n",
    "#   on CIFAR-10.\n",
    "# ================================================================ #\n",
    "\n",
    "np.random.seed(1)\n",
    "hidden_dims = [500, 500, 500, 500]\n",
    "weight_scale = 0.01\n",
    "learning_rate = 1e-3\n",
    "dropout = 0\n",
    "lr_decay = 0.9\n",
    "\n",
    "model = FullyConnectedNet(hidden_dims, weight_scale=weight_scale, dropout=dropout, use_batchnorm=True)\n",
    "\n",
    "solver = Solver(model, data,\n",
    "              num_epochs=7, batch_size=200,\n",
    "              update_rule='adam',\n",
    "              optim_config={\n",
    "                'learning_rate': learning_rate,\n",
    "              },\n",
    "              lr_decay=lr_decay,\n",
    "              verbose=True, print_every=200)\n",
    "solver.train()\n",
    "\n",
    "# ================================================================ #\n",
    "# END YOUR CODE HERE\n",
    "# ================================================================ #\n"
   ]
  }
 ],
 "metadata": {
  "kernelspec": {
   "display_name": "Python 3",
   "language": "python",
   "name": "python3"
  },
  "language_info": {
   "codemirror_mode": {
    "name": "ipython",
    "version": 3
   },
   "file_extension": ".py",
   "mimetype": "text/x-python",
   "name": "python",
   "nbconvert_exporter": "python",
   "pygments_lexer": "ipython3",
   "version": "3.7.6"
  }
 },
 "nbformat": 4,
 "nbformat_minor": 2
}
